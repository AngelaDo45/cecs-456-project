{
 "cells": [
  {
   "cell_type": "code",
   "execution_count": 2,
   "metadata": {},
   "outputs": [],
   "source": [
    "import numpy as np\n",
    "import matplotlib.pyplot as plt\n",
    "import pandas as pd \n",
    "import os \n",
    "\n",
    "from skimage import io, transform\n",
    "from PIL import Image as im\n",
    "import cv2\n",
    "\n",
    "\n",
    "from sklearn import datasets, svm, metrics\n",
    "from sklearn.pipeline import make_pipeline\n",
    "from sklearn.preprocessing import MinMaxScaler\n",
    "from sklearn.model_selection import cross_validate\n",
    "\n",
    "\n",
    "from __future__ import print_function\n",
    "import keras\n",
    "from keras.utils import np_utils\n",
    "# from keras.datasets import cifar10\n",
    "from keras.preprocessing.image import ImageDataGenerator\n",
    "from keras.models import Sequential\n",
    "from keras.layers import Dense, Dropout, Activation, Flatten\n",
    "from keras.layers import Conv2D, MaxPooling2D\n"
   ]
  },
  {
   "cell_type": "code",
   "execution_count": 3,
   "metadata": {},
   "outputs": [],
   "source": [
    "# not using this! \n",
    "def load_images(folder):\n",
    "    images = [] \n",
    "    labels = []\n",
    "    for filename in os.listdir(folder):\n",
    "#         print(filename)\n",
    "        image = io.imread(os.path.join(folder, filename))\n",
    "        if image is not None:\n",
    "            if filename[-5] == 'L':\n",
    "                images.append(image)\n",
    "#                 images.append(image)\n",
    "                labels.append(filename[-6])\n",
    "            # display_image(image)\n",
    "    images =  np.asarray(images)\n",
    "    labels = np.asarray(labels)\n",
    "    return images, labels"
   ]
  },
  {
   "cell_type": "code",
   "execution_count": 4,
   "metadata": {},
   "outputs": [],
   "source": [
    "# Loading the images using cv2. This will give us the right dimenstion (5, 32, 32, 3)\n",
    "def load(folder):\n",
    "    images = [] \n",
    "    labels = [] \n",
    "    for filename in os.listdir(folder):\n",
    "        image = cv2.imread(os.path.join(folder, filename))\n",
    "        if image is not None:\n",
    "            if filename[-5] == 'L':\n",
    "                image = cv2.resize(image, (32,32))\n",
    "                images.append(image)\n",
    "                labels.append(filename[-6])\n",
    "    images =  np.asarray(images)\n",
    "    labels = np.asarray(labels)\n",
    "    return images, labels"
   ]
  },
  {
   "cell_type": "code",
   "execution_count": 5,
   "metadata": {},
   "outputs": [],
   "source": [
    "def display_image(img):\n",
    "    plt.figure()\n",
    "    plt.imshow(img) \n",
    "    plt.show()  "
   ]
  },
  {
   "cell_type": "code",
   "execution_count": 6,
   "metadata": {},
   "outputs": [
    {
     "data": {
      "text/plain": [
       "(4, 128, 128)"
      ]
     },
     "execution_count": 6,
     "metadata": {},
     "output_type": "execute_result"
    }
   ],
   "source": [
    "# X_train, X_test = load_images('./try/')\n",
    "# X_train.shape"
   ]
  },
  {
   "cell_type": "code",
   "execution_count": 7,
   "metadata": {},
   "outputs": [
    {
     "name": "stdout",
     "output_type": "stream",
     "text": [
      "X training dataset:  (9000, 32, 32, 3)\n",
      "Y training dataset:  (9000,)\n",
      "X testing dataset:  (1800, 32, 32, 3)\n",
      "Y testing dataset:  (1800,)\n"
     ]
    }
   ],
   "source": [
    "# obtain the training and testing dataset from the data folder\n",
    "X_train, Y_train = load('./data/train/')\n",
    "X_test, Y_test = load('./data/test/')\n",
    "\n",
    "print(\"X training dataset: \", X_train.shape)\n",
    "print(\"Y training dataset: \", Y_train.shape)\n",
    "print(\"X testing dataset: \", X_test.shape)\n",
    "print(\"Y testing dataset: \", Y_test.shape)"
   ]
  },
  {
   "cell_type": "code",
   "execution_count": 8,
   "metadata": {},
   "outputs": [
    {
     "data": {
      "text/plain": [
       "array([[[47, 47, 47],\n",
       "        [43, 43, 43],\n",
       "        [41, 41, 41],\n",
       "        ...,\n",
       "        [45, 45, 45],\n",
       "        [50, 50, 50],\n",
       "        [50, 50, 50]],\n",
       "\n",
       "       [[46, 46, 46],\n",
       "        [45, 45, 45],\n",
       "        [41, 41, 41],\n",
       "        ...,\n",
       "        [52, 52, 52],\n",
       "        [51, 51, 51],\n",
       "        [54, 54, 54]],\n",
       "\n",
       "       [[42, 42, 42],\n",
       "        [36, 36, 36],\n",
       "        [38, 38, 38],\n",
       "        ...,\n",
       "        [45, 45, 45],\n",
       "        [48, 48, 48],\n",
       "        [45, 45, 45]],\n",
       "\n",
       "       ...,\n",
       "\n",
       "       [[43, 43, 43],\n",
       "        [44, 44, 44],\n",
       "        [43, 43, 43],\n",
       "        ...,\n",
       "        [53, 53, 53],\n",
       "        [49, 49, 49],\n",
       "        [51, 51, 51]],\n",
       "\n",
       "       [[48, 48, 48],\n",
       "        [51, 51, 51],\n",
       "        [43, 43, 43],\n",
       "        ...,\n",
       "        [56, 56, 56],\n",
       "        [49, 49, 49],\n",
       "        [50, 50, 50]],\n",
       "\n",
       "       [[52, 52, 52],\n",
       "        [45, 45, 45],\n",
       "        [45, 45, 45],\n",
       "        ...,\n",
       "        [52, 52, 52],\n",
       "        [57, 57, 57],\n",
       "        [50, 50, 50]]], dtype=uint8)"
      ]
     },
     "execution_count": 8,
     "metadata": {},
     "output_type": "execute_result"
    }
   ],
   "source": [
    "X_train[444].shape\n",
    "X_train[444]"
   ]
  },
  {
   "cell_type": "code",
   "execution_count": 16,
   "metadata": {},
   "outputs": [
    {
     "name": "stdout",
     "output_type": "stream",
     "text": [
      "[0. 0. 0. 1. 0. 0.]\n"
     ]
    },
    {
     "data": {
      "image/png": "[encoded data removed]",
      "text/plain": [
       "<Figure size 432x288 with 1 Axes>"
      ]
     },
     "metadata": {
      "needs_background": "light"
     },
     "output_type": "display_data"
    }
   ],
   "source": [
    "print(Y_train[444])\n",
    "plt.imshow(X_train[444]);"
   ]
  },
  {
   "cell_type": "code",
   "execution_count": 17,
   "metadata": {},
   "outputs": [],
   "source": [
    "num_classes = 6\n",
    "\n",
    "Y_train = np_utils.to_categorical(Y_train, num_classes)\n",
    "Y_test = np_utils.to_categorical(Y_test, num_classes)"
   ]
  },
  {
   "cell_type": "code",
   "execution_count": 12,
   "metadata": {},
   "outputs": [],
   "source": [
    "X_train = X_train.astype('float32')\n",
    "X_test = X_test.astype('float32')\n",
    "X_train /= 255\n",
    "X_test /= 255"
   ]
  },
  {
   "cell_type": "code",
   "execution_count": 13,
   "metadata": {},
   "outputs": [
    {
     "data": {
      "text/plain": [
       "array([[[0.18039216, 0.18039216, 0.18039216],\n",
       "        [0.16470589, 0.16470589, 0.16470589],\n",
       "        [0.14509805, 0.14509805, 0.14509805],\n",
       "        ...,\n",
       "        [0.18431373, 0.18431373, 0.18431373],\n",
       "        [0.16470589, 0.16470589, 0.16470589],\n",
       "        [0.16078432, 0.16078432, 0.16078432]],\n",
       "\n",
       "       [[0.18039216, 0.18039216, 0.18039216],\n",
       "        [0.16078432, 0.16078432, 0.16078432],\n",
       "        [0.14901961, 0.14901961, 0.14901961],\n",
       "        ...,\n",
       "        [0.16862746, 0.16862746, 0.16862746],\n",
       "        [0.15294118, 0.15294118, 0.15294118],\n",
       "        [0.14509805, 0.14509805, 0.14509805]],\n",
       "\n",
       "       [[0.12941177, 0.12941177, 0.12941177],\n",
       "        [0.15294118, 0.15294118, 0.15294118],\n",
       "        [0.12941177, 0.12941177, 0.12941177],\n",
       "        ...,\n",
       "        [0.18431373, 0.18431373, 0.18431373],\n",
       "        [0.16862746, 0.16862746, 0.16862746],\n",
       "        [0.15294118, 0.15294118, 0.15294118]],\n",
       "\n",
       "       ...,\n",
       "\n",
       "       [[0.16862746, 0.16862746, 0.16862746],\n",
       "        [0.14901961, 0.14901961, 0.14901961],\n",
       "        [0.16078432, 0.16078432, 0.16078432],\n",
       "        ...,\n",
       "        [0.12941177, 0.12941177, 0.12941177],\n",
       "        [0.12941177, 0.12941177, 0.12941177],\n",
       "        [0.12156863, 0.12156863, 0.12156863]],\n",
       "\n",
       "       [[0.15686275, 0.15686275, 0.15686275],\n",
       "        [0.15294118, 0.15294118, 0.15294118],\n",
       "        [0.14901961, 0.14901961, 0.14901961],\n",
       "        ...,\n",
       "        [0.14901961, 0.14901961, 0.14901961],\n",
       "        [0.14117648, 0.14117648, 0.14117648],\n",
       "        [0.13725491, 0.13725491, 0.13725491]],\n",
       "\n",
       "       [[0.16470589, 0.16470589, 0.16470589],\n",
       "        [0.16078432, 0.16078432, 0.16078432],\n",
       "        [0.16078432, 0.16078432, 0.16078432],\n",
       "        ...,\n",
       "        [0.17254902, 0.17254902, 0.17254902],\n",
       "        [0.15294118, 0.15294118, 0.15294118],\n",
       "        [0.15686275, 0.15686275, 0.15686275]]], dtype=float32)"
      ]
     },
     "execution_count": 13,
     "metadata": {},
     "output_type": "execute_result"
    }
   ],
   "source": [
    "X_train[444]\n",
    "X_test[444]"
   ]
  },
  {
   "cell_type": "code",
   "execution_count": 14,
   "metadata": {},
   "outputs": [
    {
     "name": "stdout",
     "output_type": "stream",
     "text": [
      "Model: \"sequential\"\n",
      "_________________________________________________________________\n",
      "Layer (type)                 Output Shape              Param #   \n",
      "=================================================================\n",
      "conv2d (Conv2D)              (None, 16, 16, 16)        448       \n",
      "_________________________________________________________________\n",
      "activation (Activation)      (None, 16, 16, 16)        0         \n",
      "_________________________________________________________________\n",
      "conv2d_1 (Conv2D)            (None, 7, 7, 32)          4640      \n",
      "_________________________________________________________________\n",
      "activation_1 (Activation)    (None, 7, 7, 32)          0         \n",
      "_________________________________________________________________\n",
      "max_pooling2d (MaxPooling2D) (None, 3, 3, 32)          0         \n",
      "_________________________________________________________________\n",
      "dropout (Dropout)            (None, 3, 3, 32)          0         \n",
      "_________________________________________________________________\n",
      "flatten (Flatten)            (None, 288)               0         \n",
      "_________________________________________________________________\n",
      "dense (Dense)                (None, 32)                9248      \n",
      "_________________________________________________________________\n",
      "activation_2 (Activation)    (None, 32)                0         \n",
      "_________________________________________________________________\n",
      "dropout_1 (Dropout)          (None, 32)                0         \n",
      "_________________________________________________________________\n",
      "dense_1 (Dense)              (None, 6)                 198       \n",
      "_________________________________________________________________\n",
      "activation_3 (Activation)    (None, 6)                 0         \n",
      "=================================================================\n",
      "Total params: 14,534\n",
      "Trainable params: 14,534\n",
      "Non-trainable params: 0\n",
      "_________________________________________________________________\n"
     ]
    }
   ],
   "source": [
    "model_1 = Sequential()\n",
    "\n",
    "model_1.add(Conv2D(16, (3, 3), strides = (2,2), padding='same',\n",
    "                 input_shape=X_train.shape[1:]))\n",
    "model_1.add(Activation('relu'))\n",
    "\n",
    "model_1.add(Conv2D(32, (3, 3), strides = (2,2)))\n",
    "model_1.add(Activation('relu'))\n",
    "\n",
    "model_1.add(MaxPooling2D(pool_size=(2, 2)))\n",
    "model_1.add(Dropout(0.25))\n",
    "\n",
    "model_1.add(Flatten())\n",
    "model_1.add(Dense(32))\n",
    "model_1.add(Activation('relu'))\n",
    "model_1.add(Dropout(0.5))\n",
    "model_1.add(Dense(num_classes))\n",
    "model_1.add(Activation('softmax'))\n",
    "\n",
    "model_1.summary()"
   ]
  },
  {
   "cell_type": "code",
   "execution_count": 15,
   "metadata": {},
   "outputs": [
    {
     "name": "stdout",
     "output_type": "stream",
     "text": [
      "Epoch 1/20\n",
      "282/282 [==============================] - 2s 6ms/step - loss: 1.5794 - accuracy: 0.3711 - val_loss: 0.4156 - val_accuracy: 0.9561\n",
      "Epoch 2/20\n",
      "282/282 [==============================] - 1s 2ms/step - loss: 0.5788 - accuracy: 0.8163 - val_loss: 0.1148 - val_accuracy: 0.9706\n",
      "Epoch 3/20\n",
      "282/282 [==============================] - 1s 2ms/step - loss: 0.2750 - accuracy: 0.9150 - val_loss: 0.0632 - val_accuracy: 0.9789\n",
      "Epoch 4/20\n",
      "282/282 [==============================] - 1s 2ms/step - loss: 0.1968 - accuracy: 0.9391 - val_loss: 0.0468 - val_accuracy: 0.9856\n",
      "Epoch 5/20\n",
      "282/282 [==============================] - 1s 2ms/step - loss: 0.1393 - accuracy: 0.9535 - val_loss: 0.0391 - val_accuracy: 0.9878\n",
      "Epoch 6/20\n",
      "282/282 [==============================] - 1s 2ms/step - loss: 0.1221 - accuracy: 0.9576 - val_loss: 0.0229 - val_accuracy: 0.9922\n",
      "Epoch 7/20\n",
      "282/282 [==============================] - 1s 2ms/step - loss: 0.1082 - accuracy: 0.9636 - val_loss: 0.0174 - val_accuracy: 0.9939\n",
      "Epoch 8/20\n",
      "282/282 [==============================] - 1s 2ms/step - loss: 0.0889 - accuracy: 0.9671 - val_loss: 0.0179 - val_accuracy: 0.9944\n",
      "Epoch 9/20\n",
      "282/282 [==============================] - 1s 2ms/step - loss: 0.0744 - accuracy: 0.9746 - val_loss: 0.0101 - val_accuracy: 0.9961\n",
      "Epoch 10/20\n",
      "282/282 [==============================] - 1s 2ms/step - loss: 0.0595 - accuracy: 0.9798 - val_loss: 0.0099 - val_accuracy: 0.9961\n",
      "Epoch 11/20\n",
      "282/282 [==============================] - 1s 2ms/step - loss: 0.0607 - accuracy: 0.9787 - val_loss: 0.0120 - val_accuracy: 0.9961\n",
      "Epoch 12/20\n",
      "282/282 [==============================] - 1s 2ms/step - loss: 0.0631 - accuracy: 0.9778 - val_loss: 0.0103 - val_accuracy: 0.9961\n",
      "Epoch 13/20\n",
      "282/282 [==============================] - 1s 2ms/step - loss: 0.0512 - accuracy: 0.9811 - val_loss: 0.0043 - val_accuracy: 0.9978\n",
      "Epoch 14/20\n",
      "282/282 [==============================] - 1s 2ms/step - loss: 0.0405 - accuracy: 0.9853 - val_loss: 0.0056 - val_accuracy: 0.9972\n",
      "Epoch 15/20\n",
      "282/282 [==============================] - 1s 3ms/step - loss: 0.0439 - accuracy: 0.9843 - val_loss: 0.0044 - val_accuracy: 0.9983\n",
      "Epoch 16/20\n",
      "282/282 [==============================] - 1s 3ms/step - loss: 0.0380 - accuracy: 0.9850 - val_loss: 0.0035 - val_accuracy: 0.9983\n",
      "Epoch 17/20\n",
      "282/282 [==============================] - 1s 2ms/step - loss: 0.0357 - accuracy: 0.9872 - val_loss: 0.0038 - val_accuracy: 0.9983\n",
      "Epoch 18/20\n",
      "282/282 [==============================] - 1s 2ms/step - loss: 0.0388 - accuracy: 0.9863 - val_loss: 0.0028 - val_accuracy: 0.9989\n",
      "Epoch 19/20\n",
      "282/282 [==============================] - 1s 2ms/step - loss: 0.0353 - accuracy: 0.9889 - val_loss: 0.0030 - val_accuracy: 0.9983\n",
      "Epoch 20/20\n",
      "282/282 [==============================] - 1s 3ms/step - loss: 0.0372 - accuracy: 0.9869 - val_loss: 0.0012 - val_accuracy: 0.9994\n"
     ]
    },
    {
     "data": {
      "text/plain": [
       "<tensorflow.python.keras.callbacks.History at 0x22475013af0>"
      ]
     },
     "execution_count": 15,
     "metadata": {},
     "output_type": "execute_result"
    }
   ],
   "source": [
    "batch_size = 32\n",
    "\n",
    "opt = keras.optimizers.RMSprop(learning_rate=0.0005, decay=1e-6)\n",
    "\n",
    "model_1.compile(loss='categorical_crossentropy',\n",
    "              optimizer=opt,\n",
    "              metrics=['accuracy'])\n",
    "\n",
    "model_1.fit(X_train, Y_train,\n",
    "              batch_size=batch_size,\n",
    "              epochs=10,\n",
    "              validation_data=(X_test, Y_test),\n",
    "              shuffle=True)"
   ]
  },
  {
   "cell_type": "code",
   "execution_count": null,
   "metadata": {},
   "outputs": [],
   "source": []
  },
  {
   "cell_type": "code",
   "execution_count": null,
   "metadata": {},
   "outputs": [],
   "source": [
    "'''\n",
    "References \n",
    " - https://github.com/evernext10/Hand-Gesture-Recognition-Machine-Learning\n",
    "\n",
    "'''"
   ]
  }
 ],
 "metadata": {
  "kernelspec": {
   "display_name": "Python 3",
   "language": "python",
   "name": "python3"
  },
  "language_info": {
   "codemirror_mode": {
    "name": "ipython",
    "version": 3
   },
   "file_extension": ".py",
   "mimetype": "text/x-python",
   "name": "python",
   "nbconvert_exporter": "python",
   "pygments_lexer": "ipython3",
   "version": "3.8.3"
  }
 },
 "nbformat": 4,
 "nbformat_minor": 4
}
