{
 "cells": [
  {
   "cell_type": "code",
   "execution_count": 1,
   "metadata": {},
   "outputs": [],
   "source": [
    "import numpy as np\n",
    "import matplotlib.pyplot as plt\n",
    "import pandas as pd \n",
    "import os \n",
    "\n",
    "from skimage import io, transform\n",
    "from PIL import Image as im\n",
    "import cv2\n",
    "\n",
    "from sklearn import datasets, svm, metrics\n",
    "from sklearn.pipeline import make_pipeline\n",
    "from sklearn.preprocessing import MinMaxScaler\n",
    "from sklearn.model_selection import cross_validate\n",
    "\n",
    "from __future__ import print_function\n",
    "import keras\n",
    "from keras.utils import np_utils\n",
    "from keras.preprocessing.image import ImageDataGenerator\n",
    "from keras.models import Sequential\n",
    "from keras.layers import Dense, Dropout, Activation, Flatten\n",
    "from keras.layers import Conv2D, MaxPooling2D, BatchNormalization\n",
    "from sklearn.metrics import classification_report"
   ]
  },
  {
   "cell_type": "code",
   "execution_count": 2,
   "metadata": {},
   "outputs": [],
   "source": [
    "# not using this! \n",
    "def load_images(folder):\n",
    "    images = [] \n",
    "    labels = []\n",
    "    for filename in os.listdir(folder):\n",
    "#         print(filename)\n",
    "        image = io.imread(os.path.join(folder, filename))\n",
    "        if image is not None:\n",
    "            if filename[-5] == 'R':\n",
    "                images.append(image)\n",
    "#                 images.append(image)\n",
    "                labels.append(filename[-6])\n",
    "            # display_image(image)\n",
    "    images =  np.asarray(images)\n",
    "    labels = np.asarray(labels)\n",
    "    return images, labels"
   ]
  },
  {
   "cell_type": "code",
   "execution_count": 3,
   "metadata": {},
   "outputs": [],
   "source": [
    "# Loading the images using cv2. This will give us the right dimenstion (5, 32, 32, 3)\n",
    "def load(folder):\n",
    "    images = [] \n",
    "    labels = [] \n",
    "    for filename in os.listdir(folder):\n",
    "        image = cv2.imread(os.path.join(folder, filename))\n",
    "        if image is not None:\n",
    "            if filename[-5] == 'L':\n",
    "                image = cv2.resize(image, (32,32))\n",
    "                images.append(image)\n",
    "                labels.append(filename[-6])\n",
    "    images =  np.asarray(images)\n",
    "    labels = np.asarray(labels)\n",
    "    return images, labels"
   ]
  },
  {
   "cell_type": "code",
   "execution_count": 4,
   "metadata": {},
   "outputs": [],
   "source": [
    "def display_image(img):\n",
    "    plt.figure()\n",
    "    plt.imshow(img) \n",
    "    plt.show()  "
   ]
  },
  {
   "cell_type": "code",
   "execution_count": 5,
   "metadata": {},
   "outputs": [],
   "source": [
    "# X_train, X_test = load_images('./try/')\n",
    "# X_train.shape"
   ]
  },
  {
   "cell_type": "code",
   "execution_count": 6,
   "metadata": {},
   "outputs": [
    {
     "name": "stdout",
     "output_type": "stream",
     "text": [
      "X training dataset:  (9000, 32, 32, 3)\n",
      "Y training dataset:  (9000,)\n",
      "X testing dataset:  (1800, 32, 32, 3)\n",
      "Y testing dataset:  (1800,)\n"
     ]
    }
   ],
   "source": [
    "# obtain the training and testing dataset from the data folder\n",
    "X_train, Y_train = load('./data/train/')\n",
    "X_test, Y_test = load('./data/test/')\n",
    "\n",
    "print(\"X training dataset: \", X_train.shape)\n",
    "print(\"Y training dataset: \", Y_train.shape)\n",
    "print(\"X testing dataset: \", X_test.shape)\n",
    "print(\"Y testing dataset: \", Y_test.shape)"
   ]
  },
  {
   "cell_type": "code",
   "execution_count": 7,
   "metadata": {},
   "outputs": [
    {
     "data": {
      "text/plain": [
       "array([[[47, 47, 47],\n",
       "        [43, 43, 43],\n",
       "        [41, 41, 41],\n",
       "        ...,\n",
       "        [45, 45, 45],\n",
       "        [50, 50, 50],\n",
       "        [50, 50, 50]],\n",
       "\n",
       "       [[46, 46, 46],\n",
       "        [45, 45, 45],\n",
       "        [41, 41, 41],\n",
       "        ...,\n",
       "        [52, 52, 52],\n",
       "        [51, 51, 51],\n",
       "        [54, 54, 54]],\n",
       "\n",
       "       [[42, 42, 42],\n",
       "        [36, 36, 36],\n",
       "        [38, 38, 38],\n",
       "        ...,\n",
       "        [45, 45, 45],\n",
       "        [48, 48, 48],\n",
       "        [45, 45, 45]],\n",
       "\n",
       "       ...,\n",
       "\n",
       "       [[43, 43, 43],\n",
       "        [44, 44, 44],\n",
       "        [43, 43, 43],\n",
       "        ...,\n",
       "        [53, 53, 53],\n",
       "        [49, 49, 49],\n",
       "        [51, 51, 51]],\n",
       "\n",
       "       [[48, 48, 48],\n",
       "        [51, 51, 51],\n",
       "        [43, 43, 43],\n",
       "        ...,\n",
       "        [56, 56, 56],\n",
       "        [49, 49, 49],\n",
       "        [50, 50, 50]],\n",
       "\n",
       "       [[52, 52, 52],\n",
       "        [45, 45, 45],\n",
       "        [45, 45, 45],\n",
       "        ...,\n",
       "        [52, 52, 52],\n",
       "        [57, 57, 57],\n",
       "        [50, 50, 50]]], dtype=uint8)"
      ]
     },
     "execution_count": 7,
     "metadata": {},
     "output_type": "execute_result"
    }
   ],
   "source": [
    "X_train[444].shape\n",
    "X_train[444]"
   ]
  },
  {
   "cell_type": "code",
   "execution_count": 8,
   "metadata": {},
   "outputs": [
    {
     "name": "stdout",
     "output_type": "stream",
     "text": [
      "3\n"
     ]
    },
    {
     "data": {
      "image/png": "[encoded data removed]",
      "text/plain": [
       "<Figure size 432x288 with 1 Axes>"
      ]
     },
     "metadata": {
      "needs_background": "light"
     },
     "output_type": "display_data"
    }
   ],
   "source": [
    "print(Y_train[444])\n",
    "plt.imshow(X_train[444]);"
   ]
  },
  {
   "cell_type": "code",
   "execution_count": 9,
   "metadata": {},
   "outputs": [],
   "source": [
    "num_classes = 6\n",
    "\n",
    "Y_train = np_utils.to_categorical(Y_train, num_classes)\n",
    "Y_test = np_utils.to_categorical(Y_test, num_classes)"
   ]
  },
  {
   "cell_type": "code",
   "execution_count": 10,
   "metadata": {},
   "outputs": [
    {
     "data": {
      "text/plain": [
       "array([0., 0., 0., 0., 0., 1.], dtype=float32)"
      ]
     },
     "execution_count": 10,
     "metadata": {},
     "output_type": "execute_result"
    }
   ],
   "source": [
    "Y_test[0]"
   ]
  },
  {
   "cell_type": "code",
   "execution_count": 11,
   "metadata": {},
   "outputs": [],
   "source": [
    "X_train = X_train.astype('float32')\n",
    "X_test = X_test.astype('float32')\n",
    "X_train /= 255\n",
    "X_test /= 255"
   ]
  },
  {
   "cell_type": "code",
   "execution_count": 12,
   "metadata": {},
   "outputs": [
    {
     "name": "stdout",
     "output_type": "stream",
     "text": [
      "Model: \"sequential\"\n",
      "_________________________________________________________________\n",
      "Layer (type)                 Output Shape              Param #   \n",
      "=================================================================\n",
      "conv2d (Conv2D)              (None, 16, 16, 32)        896       \n",
      "_________________________________________________________________\n",
      "activation (Activation)      (None, 16, 16, 32)        0         \n",
      "_________________________________________________________________\n",
      "conv2d_1 (Conv2D)            (None, 7, 7, 32)          9248      \n",
      "_________________________________________________________________\n",
      "activation_1 (Activation)    (None, 7, 7, 32)          0         \n",
      "_________________________________________________________________\n",
      "max_pooling2d (MaxPooling2D) (None, 3, 3, 32)          0         \n",
      "_________________________________________________________________\n",
      "flatten (Flatten)            (None, 288)               0         \n",
      "_________________________________________________________________\n",
      "dense (Dense)                (None, 32)                9248      \n",
      "_________________________________________________________________\n",
      "activation_2 (Activation)    (None, 32)                0         \n",
      "_________________________________________________________________\n",
      "dropout (Dropout)            (None, 32)                0         \n",
      "_________________________________________________________________\n",
      "dense_1 (Dense)              (None, 6)                 198       \n",
      "_________________________________________________________________\n",
      "activation_3 (Activation)    (None, 6)                 0         \n",
      "=================================================================\n",
      "Total params: 19,590\n",
      "Trainable params: 19,590\n",
      "Non-trainable params: 0\n",
      "_________________________________________________________________\n"
     ]
    }
   ],
   "source": [
    "# CNN model_1 using hw5\n",
    "model_1 = Sequential()\n",
    "\n",
    "model_1.add(Conv2D(32, (3, 3), strides = (2,2), padding='same',\n",
    "                 input_shape=X_train.shape[1:]))\n",
    "model_1.add(Activation('relu'))\n",
    "\n",
    "model_1.add(Conv2D(32, (3, 3), strides = (2,2)))\n",
    "model_1.add(Activation('relu'))\n",
    "\n",
    "model_1.add(MaxPooling2D(pool_size=(2, 2)))\n",
    "# model_1.add(Dropout(0.25))\n",
    "\n",
    "model_1.add(Flatten())\n",
    "model_1.add(Dense(32))\n",
    "model_1.add(Activation('relu'))\n",
    "model_1.add(Dropout(0.5))\n",
    "model_1.add(Dense(num_classes))\n",
    "model_1.add(Activation('softmax'))\n",
    "\n",
    "model_1.summary()"
   ]
  },
  {
   "cell_type": "code",
   "execution_count": 13,
   "metadata": {},
   "outputs": [
    {
     "name": "stdout",
     "output_type": "stream",
     "text": [
      "Epoch 1/15\n",
      "282/282 [==============================] - 2s 6ms/step - loss: 1.5107 - accuracy: 0.4121 - val_loss: 0.4696 - val_accuracy: 0.9206\n",
      "Epoch 2/15\n",
      "282/282 [==============================] - 1s 3ms/step - loss: 0.6269 - accuracy: 0.7625 - val_loss: 0.1571 - val_accuracy: 0.9606\n",
      "Epoch 3/15\n",
      "282/282 [==============================] - 1s 3ms/step - loss: 0.3542 - accuracy: 0.8692 - val_loss: 0.0721 - val_accuracy: 0.9794\n",
      "Epoch 4/15\n",
      "282/282 [==============================] - 1s 3ms/step - loss: 0.2506 - accuracy: 0.9067 - val_loss: 0.0446 - val_accuracy: 0.9883\n",
      "Epoch 5/15\n",
      "282/282 [==============================] - 1s 3ms/step - loss: 0.2123 - accuracy: 0.9196 - val_loss: 0.0272 - val_accuracy: 0.9894\n",
      "Epoch 6/15\n",
      "282/282 [==============================] - 1s 3ms/step - loss: 0.1797 - accuracy: 0.9315 - val_loss: 0.0187 - val_accuracy: 0.9950\n",
      "Epoch 7/15\n",
      "282/282 [==============================] - 1s 3ms/step - loss: 0.1541 - accuracy: 0.9408 - val_loss: 0.0164 - val_accuracy: 0.9950\n",
      "Epoch 8/15\n",
      "282/282 [==============================] - 1s 3ms/step - loss: 0.1418 - accuracy: 0.9452 - val_loss: 0.0173 - val_accuracy: 0.9933\n",
      "Epoch 9/15\n",
      "282/282 [==============================] - 1s 3ms/step - loss: 0.1240 - accuracy: 0.9507 - val_loss: 0.0093 - val_accuracy: 0.9967\n",
      "Epoch 10/15\n",
      "282/282 [==============================] - 1s 3ms/step - loss: 0.1179 - accuracy: 0.9556 - val_loss: 0.0066 - val_accuracy: 0.9972\n",
      "Epoch 11/15\n",
      "282/282 [==============================] - 1s 3ms/step - loss: 0.1115 - accuracy: 0.9593 - val_loss: 0.0104 - val_accuracy: 0.9967\n",
      "Epoch 12/15\n",
      "282/282 [==============================] - 1s 3ms/step - loss: 0.1055 - accuracy: 0.9566 - val_loss: 0.0042 - val_accuracy: 0.9978\n",
      "Epoch 13/15\n",
      "282/282 [==============================] - 1s 3ms/step - loss: 0.0934 - accuracy: 0.9594 - val_loss: 0.0061 - val_accuracy: 0.9972\n",
      "Epoch 14/15\n",
      "282/282 [==============================] - 1s 3ms/step - loss: 0.0865 - accuracy: 0.9661 - val_loss: 0.0021 - val_accuracy: 0.9989\n",
      "Epoch 15/15\n",
      "282/282 [==============================] - 1s 3ms/step - loss: 0.0866 - accuracy: 0.9660 - val_loss: 0.0038 - val_accuracy: 0.9978\n"
     ]
    }
   ],
   "source": [
    "batch_size = 32\n",
    "\n",
    "opt = keras.optimizers.RMSprop(learning_rate=0.0005, decay=1e-6)\n",
    "\n",
    "model_1.compile(loss='categorical_crossentropy',\n",
    "              optimizer=opt,\n",
    "              metrics=['accuracy'])\n",
    "\n",
    "history = model_1.fit(X_train, Y_train,\n",
    "              batch_size=batch_size,\n",
    "              epochs=15,\n",
    "              validation_data=(X_test, Y_test),\n",
    "              shuffle=True)\n",
    "\n",
    "\n",
    "# history = model_1.fit(train_x, train_y,validation_split = 0.1, epochs=50, batch_size=4)"
   ]
  },
  {
   "cell_type": "code",
   "execution_count": 23,
   "metadata": {},
   "outputs": [
    {
     "data": {
      "image/png": "[encoded data removed]",
      "text/plain": [
       "<Figure size 432x288 with 1 Axes>"
      ]
     },
     "metadata": {
      "needs_background": "light"
     },
     "output_type": "display_data"
    }
   ],
   "source": [
    "plt.plot(history.history['accuracy'])\n",
    "plt.plot(history.history['val_accuracy'])\n",
    "plt.title(' model_1 accuracy')\n",
    "plt.ylabel('Accuracy')\n",
    "plt.xlabel('Epoch')\n",
    "plt.legend(['Train', 'Validation'], loc='lower right')\n",
    "plt.show()"
   ]
  },
  {
   "cell_type": "code",
   "execution_count": 24,
   "metadata": {},
   "outputs": [
    {
     "data": {
      "image/png": "[encoded data removed]",
      "text/plain": [
       "<Figure size 432x288 with 1 Axes>"
      ]
     },
     "metadata": {
      "needs_background": "light"
     },
     "output_type": "display_data"
    }
   ],
   "source": [
    "plt.plot(history.history['loss'])\n",
    "plt.plot(history.history['val_loss'])\n",
    "plt.title('model_1 loss')\n",
    "plt.ylabel('Loss')\n",
    "plt.xlabel('Epoch')\n",
    "plt.legend(['Train', 'Validation'], loc='upper right')\n",
    "plt.show()"
   ]
  },
  {
   "cell_type": "code",
   "execution_count": null,
   "metadata": {},
   "outputs": [],
   "source": []
  },
  {
   "cell_type": "code",
   "execution_count": 16,
   "metadata": {},
   "outputs": [
    {
     "name": "stdout",
     "output_type": "stream",
     "text": [
      "57/57 [==============================] - 0s 962us/step - loss: 0.0038 - accuracy: 0.9978\n"
     ]
    }
   ],
   "source": [
    "score = model_1.evaluate(X_test, Y_test)"
   ]
  },
  {
   "cell_type": "code",
   "execution_count": 17,
   "metadata": {},
   "outputs": [],
   "source": [
    "prediction = model_1.predict(X_test)"
   ]
  },
  {
   "cell_type": "code",
   "execution_count": 18,
   "metadata": {},
   "outputs": [],
   "source": [
    "y_true = np.argmax(Y_test, axis=1)     \n",
    "y_pred = np.argmax(prediction, axis=1) "
   ]
  },
  {
   "cell_type": "code",
   "execution_count": 19,
   "metadata": {},
   "outputs": [
    {
     "name": "stdout",
     "output_type": "stream",
     "text": [
      "[[300   0   0   0   0   0]\n",
      " [  0 300   0   0   0   0]\n",
      " [  0   2 298   0   0   0]\n",
      " [  0   0   2 298   0   0]\n",
      " [  0   0   0   0 300   0]\n",
      " [  0   0   0   0   0 300]]\n"
     ]
    }
   ],
   "source": [
    "from sklearn import metrics\n",
    "print(metrics.confusion_matrix(y_true, y_pred))"
   ]
  },
  {
   "cell_type": "code",
   "execution_count": 20,
   "metadata": {},
   "outputs": [
    {
     "name": "stdout",
     "output_type": "stream",
     "text": [
      "              precision    recall  f1-score   support\n",
      "\n",
      "           0      1.000     1.000     1.000       300\n",
      "           1      0.993     1.000     0.997       300\n",
      "           2      0.993     0.993     0.993       300\n",
      "           3      1.000     0.993     0.997       300\n",
      "           4      1.000     1.000     1.000       300\n",
      "           5      1.000     1.000     1.000       300\n",
      "\n",
      "    accuracy                          0.998      1800\n",
      "   macro avg      0.998     0.998     0.998      1800\n",
      "weighted avg      0.998     0.998     0.998      1800\n",
      "\n"
     ]
    }
   ],
   "source": [
    "print(classification_report(y_true, y_pred, digits=3)) "
   ]
  },
  {
   "cell_type": "code",
   "execution_count": 21,
   "metadata": {},
   "outputs": [
    {
     "data": {
      "text/plain": [
       "<sklearn.metrics._plot.confusion_matrix.ConfusionMatrixDisplay at 0x1ae69166190>"
      ]
     },
     "execution_count": 21,
     "metadata": {},
     "output_type": "execute_result"
    },
    {
     "data": {
      "image/png": "[encoded data removed]",
      "text/plain": [
       "<Figure size 432x288 with 2 Axes>"
      ]
     },
     "metadata": {
      "needs_background": "light"
     },
     "output_type": "display_data"
    }
   ],
   "source": [
    "from sklearn.metrics import confusion_matrix, ConfusionMatrixDisplay\n",
    "\n",
    "cm = confusion_matrix(y_true, y_pred)\n",
    "cmd = ConfusionMatrixDisplay(cm, display_labels=['0', '1', '2', '3', '4', '5'])\n",
    "cmd.plot()"
   ]
  },
  {
   "cell_type": "code",
   "execution_count": null,
   "metadata": {},
   "outputs": [],
   "source": [
    "# confidence level\n",
    "# model_1.predict(X_train[0:1], batch_size=None, verbose=0, steps=None)\n",
    "\n",
    "# check what class it is? \n",
    "# Y_train[0:1]"
   ]
  },
  {
   "cell_type": "code",
   "execution_count": null,
   "metadata": {},
   "outputs": [],
   "source": []
  },
  {
   "cell_type": "code",
   "execution_count": null,
   "metadata": {},
   "outputs": [],
   "source": [
    "# Make a prediction with just one image. \n",
    "from tensorflow.keras.preprocessing import image\n",
    "test_image = image.load_img('test_image.png', target_size = (32,32))\n",
    "test_image = image.img_to_array(test_image)\n",
    "test_image = test_image/255\n",
    "display_image(test_image)\n",
    "test_image = np.expand_dims(test_image, axis=0)\n",
    "result = model_1.predict(test_image)"
   ]
  },
  {
   "cell_type": "code",
   "execution_count": null,
   "metadata": {},
   "outputs": [],
   "source": [
    "## confidence level for each of the classes. highest confidence = largest value\n",
    "# np.around(result, decimals=1)\n",
    "result"
   ]
  },
  {
   "cell_type": "code",
   "execution_count": null,
   "metadata": {},
   "outputs": [],
   "source": []
  },
  {
   "cell_type": "code",
   "execution_count": null,
   "metadata": {},
   "outputs": [],
   "source": [
    "## 2nd CNN architecture using VGG-16 ##"
   ]
  },
  {
   "cell_type": "code",
   "execution_count": null,
   "metadata": {},
   "outputs": [],
   "source": [
    "vgg_model = Sequential()\n",
    "\n",
    "vgg_model.add(Conv2D(64, (5, 5), strides = (1,1), padding='same', input_shape=X_train.shape[1:]))\n",
    "vgg_model.add(Activation('relu'))\n",
    "vgg_model.add(Conv2D(64, (3, 3), strides = (1,1), padding='same'))\n",
    "vgg_model.add(Activation('relu'))\n",
    "vgg_model.add(MaxPooling2D(pool_size=(2, 2)))\n",
    "# vgg_model.add(Dropout(0.25))  # No need to use dropout when using batch normalization \n",
    "vgg_model.add(BatchNormalization())\n",
    "\n",
    "vgg_model.add(Conv2D(128, (3, 3), strides = (1,1), padding='same'))\n",
    "vgg_model.add(Activation('relu'))\n",
    "vgg_model.add(Conv2D(128, (3, 3), strides = (1,1), padding='same'))\n",
    "vgg_model.add(Activation('relu'))\n",
    "vgg_model.add(MaxPooling2D(pool_size=(2, 2)))\n",
    "# vgg_model.add(Dropout(0.25))\n",
    "vgg_model.add(BatchNormalization())\n",
    "\n",
    "vgg_model.add(Conv2D(256, (3, 3), strides = (1,1), padding='same'))\n",
    "vgg_model.add(Activation('relu'))\n",
    "vgg_model.add(Conv2D(256, (3, 3), strides = (1,1), padding='same'))\n",
    "vgg_model.add(Activation('relu'))\n",
    "vgg_model.add(MaxPooling2D(pool_size=(2, 2)))\n",
    "# vgg_model.add(Dropout(0.25))\n",
    "vgg_model.add(BatchNormalization())\n",
    "\n",
    "vgg_model.add(Conv2D(512, (3, 3), strides = (1,1), padding='same'))\n",
    "vgg_model.add(Activation('relu'))\n",
    "vgg_model.add(Conv2D(512, (3, 3), strides = (1,1), padding='same'))\n",
    "vgg_model.add(Activation('relu'))\n",
    "vgg_model.add(Conv2D(512, (3, 3), strides = (1,1), padding='same'))\n",
    "vgg_model.add(Activation('relu'))\n",
    "vgg_model.add(MaxPooling2D(pool_size=(2, 2)))\n",
    "# vgg_model.add(Dropout(0.25))\n",
    "vgg_model.add(BatchNormalization())\n",
    "\n",
    "vgg_model.add(Conv2D(512, (3, 3), strides = (1,1), padding='same'))\n",
    "vgg_model.add(Activation('relu'))\n",
    "vgg_model.add(Conv2D(512, (3, 3), strides = (1,1), padding='same'))\n",
    "vgg_model.add(Activation('relu'))\n",
    "vgg_model.add(Conv2D(512, (3, 3), strides = (1,1), padding='same'))\n",
    "vgg_model.add(Activation('relu'))\n",
    "vgg_model.add(MaxPooling2D(pool_size=(2, 2)))\n",
    "# # vgg_model.add(Dropout(0.5))\n",
    "vgg_model.add(BatchNormalization())\n",
    "\n",
    "vgg_model.add(Flatten())\n",
    "vgg_model.add(Dense(512))\n",
    "vgg_model.add(Activation('relu'))\n",
    "vgg_model.add(Dropout(0.5))\n",
    "vgg_model.add(Dense(num_classes))\n",
    "\n",
    "vgg_model.add(Dense(4096))\n",
    "vgg_model.add(Activation('relu'))\n",
    "vgg_model.add(Dropout(0.5))\n",
    "vgg_model.add(Dense(num_classes))\n",
    "\n",
    "vgg_model.add(Dense(1000))\n",
    "vgg_model.add(Activation('relu'))\n",
    "vgg_model.add(Dropout(0.5))\n",
    "vgg_model.add(Dense(num_classes))\n",
    "\n",
    "vgg_model.add(Activation('softmax'))\n",
    "\n",
    "vgg_model.summary()"
   ]
  },
  {
   "cell_type": "code",
   "execution_count": null,
   "metadata": {},
   "outputs": [],
   "source": [
    "opt = keras.optimizers.RMSprop(learning_rate=0.0005, decay=1e-6)\n",
    "\n",
    "vgg_model.compile(loss='categorical_crossentropy',\n",
    "              optimizer=opt,\n",
    "              metrics=['accuracy'])\n",
    "\n",
    "vgg_model.fit(X_train, Y_train,\n",
    "              batch_size=32,\n",
    "              epochs=5,\n",
    "              validation_data=(X_test, Y_test),\n",
    "              shuffle=True)"
   ]
  },
  {
   "cell_type": "code",
   "execution_count": null,
   "metadata": {},
   "outputs": [],
   "source": [
    "'''\n",
    "References \n",
    " - https://github.com/evernext10/Hand-Gesture-Recognition-Machine-Learning\n",
    " - https://datascience.stackexchange.com/questions/45165/how-to-get-accuracy-f1-precision-and-recall-for-a-keras-model\n",
    "\n",
    "'''"
   ]
  }
 ],
 "metadata": {
  "kernelspec": {
   "display_name": "Python 3",
   "language": "python",
   "name": "python3"
  },
  "language_info": {
   "codemirror_mode": {
    "name": "ipython",
    "version": 3
   },
   "file_extension": ".py",
   "mimetype": "text/x-python",
   "name": "python",
   "nbconvert_exporter": "python",
   "pygments_lexer": "ipython3",
   "version": "3.8.3"
  }
 },
 "nbformat": 4,
 "nbformat_minor": 4
}
